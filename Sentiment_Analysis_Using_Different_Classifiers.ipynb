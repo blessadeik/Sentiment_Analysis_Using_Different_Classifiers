{
  "nbformat": 4,
  "nbformat_minor": 0,
  "metadata": {
    "colab": {
      "provenance": []
    },
    "kernelspec": {
      "name": "python3",
      "display_name": "Python 3"
    },
    "language_info": {
      "name": "python"
    }
  },
  "cells": [
    {
      "cell_type": "code",
      "execution_count": 3,
      "metadata": {
        "id": "ydnvcwpCOi6v"
      },
      "outputs": [],
      "source": [
        "import pandas as pd\n",
        "from urllib.request import urlopen\n",
        "from bs4 import BeautifulSoup\n",
        "import requests\n",
        "import re\n",
        "import spacy\n",
        "from sklearn.feature_extraction.text import CountVectorizer, TfidfVectorizer\n",
        "import nltk\n",
        "from nltk import FreqDist\n",
        "from nltk.tokenize import word_tokenize\n",
        "from nltk.corpus import stopwords\n",
        "from nltk.stem import PorterStemmer, WordNetLemmatizer\n",
        "import string\n",
        "import matplotlib.pyplot as plt\n",
        "from sklearn.linear_model import LogisticRegression\n",
        "from sklearn.neural_network import MLPClassifier\n",
        "from sklearn.metrics import classification_report, confusion_matrix, silhouette_score\n",
        "from sklearn.cluster import KMeans\n",
        "import string\n",
        "import numpy as np"
      ]
    },
    {
      "cell_type": "markdown",
      "source": [
        "a) Read the csv file in python Pandas DataFrame and make 70% as training\n",
        "and 30% as test sets."
      ],
      "metadata": {
        "id": "Islr_YL68OTd"
      }
    },
    {
      "cell_type": "code",
      "source": [
        "import pandas as pd\n",
        "import numpy as np\n",
        "from sklearn.model_selection import train_test_split\n",
        "\n",
        "# Reading CSV file in pandas DataFrame\n",
        "data = pd.read_csv(\"movie_data.csv\")\n",
        "\n",
        "# Splitting the dataset into train and test sets\n",
        "x_train, x_test,y_train, y_test = train_test_split(data.review, data.sentiment, test_size=0.3, random_state=42)"
      ],
      "metadata": {
        "id": "eezFIexR8PNj"
      },
      "execution_count": 2,
      "outputs": []
    },
    {
      "cell_type": "markdown",
      "source": [
        "b) Perform the necessary pre-text processing (similar to previous questions) for\n",
        "vocabulary generation."
      ],
      "metadata": {
        "id": "3NDdyD2v8Pis"
      }
    },
    {
      "cell_type": "code",
      "source": [
        "# Call function in number 2\n",
        "# train\n",
        "def preprocess_txt(train_data):\n",
        "    # Convert to lowercase\n",
        "    train_data = [i.lower() for i in train_data]\n",
        "\n",
        "    # Remove numbers\n",
        "    train_data = [re.sub(r'\\d+', '', data) for data in train_data]\n",
        "\n",
        "    # Punctuation Removal\n",
        "    string.punctuation\n",
        "    train_data = [\"\".join([i for i in tok if i not in string.punctuation]) for tok in train_data]\n",
        "\n",
        "    # Tokenization\n",
        "    tokens = [word_tokenize(wd) for wd in train_data]\n",
        "\n",
        "    # Stop Word Removal\n",
        "    stop_words = nltk.corpus.stopwords.words('english')\n",
        "    tokens = [[token for token in stp if token not in stop_words] for stp in tokens]\n",
        "\n",
        "    # Perform Stemming and Lemmatization\n",
        "    stemmer = PorterStemmer()\n",
        "    lemmatizer = WordNetLemmatizer()\n",
        "    stemmed_tokens = [[stemmer.stem(token) for token in orieja]for orieja in tokens]\n",
        "    lemmatized_tokens = [[lemmatizer.lemmatize(token) for token in bulaba] for bulaba in tokens]\n",
        "    preprocessed_txt = [' ' .join(lem) for lem in lemmatized_tokens]\n",
        "    return preprocessed_txt"
      ],
      "metadata": {
        "id": "_JKVXNjD8QY7"
      },
      "execution_count": 4,
      "outputs": []
    },
    {
      "cell_type": "code",
      "source": [
        "data.head(5)"
      ],
      "metadata": {
        "colab": {
          "base_uri": "https://localhost:8080/",
          "height": 206
        },
        "id": "VTL2ROFS13K8",
        "outputId": "0c85ce60-9f22-48de-85b7-66457d81c760"
      },
      "execution_count": 5,
      "outputs": [
        {
          "output_type": "execute_result",
          "data": {
            "text/plain": [
              "                                              review  sentiment\n",
              "0  I went and saw this movie last night after bei...          1\n",
              "1  Actor turned director Bill Paxton follows up h...          1\n",
              "2  As a recreational golfer with some knowledge o...          1\n",
              "3  I saw this film in a sneak preview, and it is ...          1\n",
              "4  Bill Paxton has taken the true story of the 19...          1"
            ],
            "text/html": [
              "\n",
              "  <div id=\"df-e7402a93-a835-485c-9963-8403ab4daa39\" class=\"colab-df-container\">\n",
              "    <div>\n",
              "<style scoped>\n",
              "    .dataframe tbody tr th:only-of-type {\n",
              "        vertical-align: middle;\n",
              "    }\n",
              "\n",
              "    .dataframe tbody tr th {\n",
              "        vertical-align: top;\n",
              "    }\n",
              "\n",
              "    .dataframe thead th {\n",
              "        text-align: right;\n",
              "    }\n",
              "</style>\n",
              "<table border=\"1\" class=\"dataframe\">\n",
              "  <thead>\n",
              "    <tr style=\"text-align: right;\">\n",
              "      <th></th>\n",
              "      <th>review</th>\n",
              "      <th>sentiment</th>\n",
              "    </tr>\n",
              "  </thead>\n",
              "  <tbody>\n",
              "    <tr>\n",
              "      <th>0</th>\n",
              "      <td>I went and saw this movie last night after bei...</td>\n",
              "      <td>1</td>\n",
              "    </tr>\n",
              "    <tr>\n",
              "      <th>1</th>\n",
              "      <td>Actor turned director Bill Paxton follows up h...</td>\n",
              "      <td>1</td>\n",
              "    </tr>\n",
              "    <tr>\n",
              "      <th>2</th>\n",
              "      <td>As a recreational golfer with some knowledge o...</td>\n",
              "      <td>1</td>\n",
              "    </tr>\n",
              "    <tr>\n",
              "      <th>3</th>\n",
              "      <td>I saw this film in a sneak preview, and it is ...</td>\n",
              "      <td>1</td>\n",
              "    </tr>\n",
              "    <tr>\n",
              "      <th>4</th>\n",
              "      <td>Bill Paxton has taken the true story of the 19...</td>\n",
              "      <td>1</td>\n",
              "    </tr>\n",
              "  </tbody>\n",
              "</table>\n",
              "</div>\n",
              "    <div class=\"colab-df-buttons\">\n",
              "\n",
              "  <div class=\"colab-df-container\">\n",
              "    <button class=\"colab-df-convert\" onclick=\"convertToInteractive('df-e7402a93-a835-485c-9963-8403ab4daa39')\"\n",
              "            title=\"Convert this dataframe to an interactive table.\"\n",
              "            style=\"display:none;\">\n",
              "\n",
              "  <svg xmlns=\"http://www.w3.org/2000/svg\" height=\"24px\" viewBox=\"0 -960 960 960\">\n",
              "    <path d=\"M120-120v-720h720v720H120Zm60-500h600v-160H180v160Zm220 220h160v-160H400v160Zm0 220h160v-160H400v160ZM180-400h160v-160H180v160Zm440 0h160v-160H620v160ZM180-180h160v-160H180v160Zm440 0h160v-160H620v160Z\"/>\n",
              "  </svg>\n",
              "    </button>\n",
              "\n",
              "  <style>\n",
              "    .colab-df-container {\n",
              "      display:flex;\n",
              "      gap: 12px;\n",
              "    }\n",
              "\n",
              "    .colab-df-convert {\n",
              "      background-color: #E8F0FE;\n",
              "      border: none;\n",
              "      border-radius: 50%;\n",
              "      cursor: pointer;\n",
              "      display: none;\n",
              "      fill: #1967D2;\n",
              "      height: 32px;\n",
              "      padding: 0 0 0 0;\n",
              "      width: 32px;\n",
              "    }\n",
              "\n",
              "    .colab-df-convert:hover {\n",
              "      background-color: #E2EBFA;\n",
              "      box-shadow: 0px 1px 2px rgba(60, 64, 67, 0.3), 0px 1px 3px 1px rgba(60, 64, 67, 0.15);\n",
              "      fill: #174EA6;\n",
              "    }\n",
              "\n",
              "    .colab-df-buttons div {\n",
              "      margin-bottom: 4px;\n",
              "    }\n",
              "\n",
              "    [theme=dark] .colab-df-convert {\n",
              "      background-color: #3B4455;\n",
              "      fill: #D2E3FC;\n",
              "    }\n",
              "\n",
              "    [theme=dark] .colab-df-convert:hover {\n",
              "      background-color: #434B5C;\n",
              "      box-shadow: 0px 1px 3px 1px rgba(0, 0, 0, 0.15);\n",
              "      filter: drop-shadow(0px 1px 2px rgba(0, 0, 0, 0.3));\n",
              "      fill: #FFFFFF;\n",
              "    }\n",
              "  </style>\n",
              "\n",
              "    <script>\n",
              "      const buttonEl =\n",
              "        document.querySelector('#df-e7402a93-a835-485c-9963-8403ab4daa39 button.colab-df-convert');\n",
              "      buttonEl.style.display =\n",
              "        google.colab.kernel.accessAllowed ? 'block' : 'none';\n",
              "\n",
              "      async function convertToInteractive(key) {\n",
              "        const element = document.querySelector('#df-e7402a93-a835-485c-9963-8403ab4daa39');\n",
              "        const dataTable =\n",
              "          await google.colab.kernel.invokeFunction('convertToInteractive',\n",
              "                                                    [key], {});\n",
              "        if (!dataTable) return;\n",
              "\n",
              "        const docLinkHtml = 'Like what you see? Visit the ' +\n",
              "          '<a target=\"_blank\" href=https://colab.research.google.com/notebooks/data_table.ipynb>data table notebook</a>'\n",
              "          + ' to learn more about interactive tables.';\n",
              "        element.innerHTML = '';\n",
              "        dataTable['output_type'] = 'display_data';\n",
              "        await google.colab.output.renderOutput(dataTable, element);\n",
              "        const docLink = document.createElement('div');\n",
              "        docLink.innerHTML = docLinkHtml;\n",
              "        element.appendChild(docLink);\n",
              "      }\n",
              "    </script>\n",
              "  </div>\n",
              "\n",
              "\n",
              "<div id=\"df-f7a253ff-6faa-4b78-ba5a-aee86b4e69f9\">\n",
              "  <button class=\"colab-df-quickchart\" onclick=\"quickchart('df-f7a253ff-6faa-4b78-ba5a-aee86b4e69f9')\"\n",
              "            title=\"Suggest charts.\"\n",
              "            style=\"display:none;\">\n",
              "\n",
              "<svg xmlns=\"http://www.w3.org/2000/svg\" height=\"24px\"viewBox=\"0 0 24 24\"\n",
              "     width=\"24px\">\n",
              "    <g>\n",
              "        <path d=\"M19 3H5c-1.1 0-2 .9-2 2v14c0 1.1.9 2 2 2h14c1.1 0 2-.9 2-2V5c0-1.1-.9-2-2-2zM9 17H7v-7h2v7zm4 0h-2V7h2v10zm4 0h-2v-4h2v4z\"/>\n",
              "    </g>\n",
              "</svg>\n",
              "  </button>\n",
              "\n",
              "<style>\n",
              "  .colab-df-quickchart {\n",
              "    background-color: #E8F0FE;\n",
              "    border: none;\n",
              "    border-radius: 50%;\n",
              "    cursor: pointer;\n",
              "    display: none;\n",
              "    fill: #1967D2;\n",
              "    height: 32px;\n",
              "    padding: 0 0 0 0;\n",
              "    width: 32px;\n",
              "  }\n",
              "\n",
              "  .colab-df-quickchart:hover {\n",
              "    background-color: #E2EBFA;\n",
              "    box-shadow: 0px 1px 2px rgba(60, 64, 67, 0.3), 0px 1px 3px 1px rgba(60, 64, 67, 0.15);\n",
              "    fill: #174EA6;\n",
              "  }\n",
              "\n",
              "  [theme=dark] .colab-df-quickchart {\n",
              "    background-color: #3B4455;\n",
              "    fill: #D2E3FC;\n",
              "  }\n",
              "\n",
              "  [theme=dark] .colab-df-quickchart:hover {\n",
              "    background-color: #434B5C;\n",
              "    box-shadow: 0px 1px 3px 1px rgba(0, 0, 0, 0.15);\n",
              "    filter: drop-shadow(0px 1px 2px rgba(0, 0, 0, 0.3));\n",
              "    fill: #FFFFFF;\n",
              "  }\n",
              "</style>\n",
              "\n",
              "  <script>\n",
              "    async function quickchart(key) {\n",
              "      const charts = await google.colab.kernel.invokeFunction(\n",
              "          'suggestCharts', [key], {});\n",
              "    }\n",
              "    (() => {\n",
              "      let quickchartButtonEl =\n",
              "        document.querySelector('#df-f7a253ff-6faa-4b78-ba5a-aee86b4e69f9 button');\n",
              "      quickchartButtonEl.style.display =\n",
              "        google.colab.kernel.accessAllowed ? 'block' : 'none';\n",
              "    })();\n",
              "  </script>\n",
              "</div>\n",
              "    </div>\n",
              "  </div>\n"
            ]
          },
          "metadata": {},
          "execution_count": 5
        }
      ]
    },
    {
      "cell_type": "code",
      "source": [
        "import nltk\n",
        "nltk.download('punkt')\n",
        "\n",
        "nltk.download('wordnet')\n",
        "nltk.download('stopwords')"
      ],
      "metadata": {
        "colab": {
          "base_uri": "https://localhost:8080/"
        },
        "id": "Fi8PkFp2UhdH",
        "outputId": "d808711c-081d-4f33-e86a-616c42099a2c"
      },
      "execution_count": 6,
      "outputs": [
        {
          "output_type": "stream",
          "name": "stderr",
          "text": [
            "[nltk_data] Downloading package punkt to /root/nltk_data...\n",
            "[nltk_data]   Unzipping tokenizers/punkt.zip.\n",
            "[nltk_data] Downloading package wordnet to /root/nltk_data...\n",
            "[nltk_data] Downloading package stopwords to /root/nltk_data...\n",
            "[nltk_data]   Unzipping corpora/stopwords.zip.\n"
          ]
        },
        {
          "output_type": "execute_result",
          "data": {
            "text/plain": [
              "True"
            ]
          },
          "metadata": {},
          "execution_count": 6
        }
      ]
    },
    {
      "cell_type": "code",
      "source": [
        "x_train= preprocess_txt(x_train)\n",
        "x_test = preprocess_txt(x_test)"
      ],
      "metadata": {
        "id": "VEikI9Ju0k_c"
      },
      "execution_count": 7,
      "outputs": []
    },
    {
      "cell_type": "markdown",
      "source": [
        "c) Represent the text using TF-IDF feature weighting (e.g., using\n",
        "TfidfVectorizer)\n"
      ],
      "metadata": {
        "id": "9IaMG5gW8QuZ"
      }
    },
    {
      "cell_type": "code",
      "source": [
        "# c\n",
        "from sklearn.feature_extraction.text import TfidfVectorizer\n",
        "\n",
        "# create a TfidfVectorizer object\n",
        "vectorizer = TfidfVectorizer(max_features=800)\n",
        "\n",
        "# fit and transform the training data\n",
        "train_features = vectorizer.fit_transform(x_train)\n",
        "train_features= train_features.toarray()\n",
        "# transform the test data\n",
        "test_features = vectorizer.transform(x_test)\n",
        "test_features= test_features.toarray()"
      ],
      "metadata": {
        "id": "ELowv-ys8Rt7"
      },
      "execution_count": 8,
      "outputs": []
    },
    {
      "cell_type": "markdown",
      "source": [
        "d) Show the IDF scores only of the first 50 keywords in your vocabulary."
      ],
      "metadata": {
        "id": "j5mQ6xi18SGX"
      }
    },
    {
      "cell_type": "code",
      "source": [
        "# # get the IDF scores of the first 50 keywords\n",
        "print(\"IDF scores of first 50 keywords\\n\",vectorizer.idf_[:50])"
      ],
      "metadata": {
        "id": "4xAkQRMR8SgR",
        "colab": {
          "base_uri": "https://localhost:8080/"
        },
        "outputId": "2c9e8154-c43b-405c-eb80-4d98b6151af4"
      },
      "execution_count": 9,
      "outputs": [
        {
          "output_type": "stream",
          "name": "stdout",
          "text": [
            "IDF scores of first 50 keywords\n",
            " [4.07048439 3.89268866 4.86871845 4.33704464 3.92091845 2.57465106\n",
            " 3.36783813 2.62023858 4.03837015 4.63225768 2.99240159 4.16401045\n",
            " 4.67078748 4.22319932 4.30461791 4.86871845 5.18273607 3.24165296\n",
            " 4.37890549 3.72726159 4.05824434 2.37484619 3.47187798 3.26010167\n",
            " 4.17899711 4.73809827 3.67450585 4.54246041 4.76733299 4.96786636\n",
            " 4.93517399 4.43404435 2.94934451 3.38475381 3.29890626 4.27019769\n",
            " 4.46006645 4.48585057 4.42522595 3.13976622 4.16198411 4.55238112\n",
            " 4.70969399 3.89011466 4.41041086 3.53364539 4.71203044 4.58172061\n",
            " 3.37610644 3.90461517]\n"
          ]
        }
      ]
    },
    {
      "cell_type": "markdown",
      "source": [
        "e) Perform K-NN classification: Fit and test the model for different values for K(from 1 to 9) using a for loop and record and plot the KNN’s testing accuracy in a variable (scores)."
      ],
      "metadata": {
        "id": "QfD6jRjx8S0r"
      }
    },
    {
      "cell_type": "code",
      "source": [
        "# eee\n",
        "from sklearn.neighbors import KNeighborsClassifier\n",
        "from sklearn.metrics import accuracy_score\n",
        "\n",
        "scores = []\n",
        "\n",
        "for k in range(1, 10):\n",
        "    knn = KNeighborsClassifier(n_neighbors=k)\n",
        "    knn.fit(train_features, y_train)\n",
        "    y_pred = knn.predict(test_features)\n",
        "    score = accuracy_score(y_test, y_pred)\n",
        "    scores.append(score)\n",
        "    print(f'K={k}: {score:.4f}')\n"
      ],
      "metadata": {
        "id": "3JNeT8j45bkS",
        "colab": {
          "base_uri": "https://localhost:8080/"
        },
        "outputId": "8580720d-8b2a-4ddc-eb4f-37a6e87dd06a"
      },
      "execution_count": 10,
      "outputs": [
        {
          "output_type": "stream",
          "name": "stdout",
          "text": [
            "K=1: 0.5250\n",
            "K=2: 0.5119\n",
            "K=3: 0.6687\n",
            "K=4: 0.6399\n",
            "K=5: 0.7023\n",
            "K=6: 0.6829\n",
            "K=7: 0.7235\n",
            "K=8: 0.7066\n",
            "K=9: 0.7335\n"
          ]
        }
      ]
    },
    {
      "cell_type": "code",
      "source": [
        "k=range(1,10)"
      ],
      "metadata": {
        "id": "WrSF2rdpWRZB"
      },
      "execution_count": 11,
      "outputs": []
    },
    {
      "cell_type": "code",
      "source": [
        "# Plot accuracy scores\n",
        "%matplotlib inline\n",
        "import matplotlib.pyplot as plt\n",
        "\n",
        "#plot the relationship between K and the testing accuracy\n",
        "plt.plot(k,scores)\n",
        "plt.xlabel('Value of K for KNN')\n",
        "plt.ylabel('Testing Accuracy')"
      ],
      "metadata": {
        "colab": {
          "base_uri": "https://localhost:8080/",
          "height": 466
        },
        "id": "l6psenjE60To",
        "outputId": "55fe660d-2b32-4084-ce44-fa6c4507d517"
      },
      "execution_count": 12,
      "outputs": [
        {
          "output_type": "execute_result",
          "data": {
            "text/plain": [
              "Text(0, 0.5, 'Testing Accuracy')"
            ]
          },
          "metadata": {},
          "execution_count": 12
        },
        {
          "output_type": "display_data",
          "data": {
            "text/plain": [
              "<Figure size 640x480 with 1 Axes>"
            ],
            "image/png": "[encoded data removed]"
          },
          "metadata": {}
        }
      ]
    },
    {
      "cell_type": "markdown",
      "source": [
        "f) Train the dataset using Random Forest, Logistic Regression and Deep\n",
        "Neural Network (two hidden layers) using Keras sequential model with three\n",
        "hidden layers. You may use all other parameters as default ones."
      ],
      "metadata": {
        "id": "6mzgGmdl80xp"
      }
    },
    {
      "cell_type": "code",
      "source": [
        "from sklearn.ensemble import RandomForestClassifier\n",
        "# Random Forest\n",
        "rf_clf = RandomForestClassifier(n_estimators=50)\n",
        "rf_clf.fit(train_features, y_train)\n",
        "# predict\n",
        "y_pred_rf = rf_clf.predict(test_features)\n",
        "\n",
        "\n",
        "# Logistic Regression\n",
        "logreg = LogisticRegression(max_iter=10000)\n",
        "logreg.fit(train_features, y_train)\n",
        "logreg_acc = logreg.score(test_features, y_test)"
      ],
      "metadata": {
        "id": "fp8QgNkc81Fp"
      },
      "execution_count": 13,
      "outputs": []
    },
    {
      "cell_type": "code",
      "source": [
        "import pandas as pd\n",
        "from sklearn.linear_model import LogisticRegression\n",
        "from sklearn.model_selection import train_test_split\n",
        "import tensorflow as tf\n",
        "from tensorflow.keras import layers"
      ],
      "metadata": {
        "id": "YFYWaFReR91L"
      },
      "execution_count": 14,
      "outputs": []
    },
    {
      "cell_type": "code",
      "source": [
        "# Deep Neural Network\n",
        "# Building the Model\n",
        "# define the model\n",
        "model = tf.keras.Sequential()\n",
        "\n",
        "# add the input layer\n",
        "model.add(tf.keras.layers.Dense(784, activation='relu', input_shape=(train_features.shape[1],)))\n",
        "\n",
        "# add the first hidden layer\n",
        "model.add(tf.keras.layers.Dense(256, activation='relu'))\n",
        "\n",
        "# add the second hidden layer\n",
        "model.add(tf.keras.layers.Dense(128, activation='relu'))\n",
        "\n",
        "# add the third hidden layer\n",
        "model.add(tf.keras.layers.Dense(64, activation='relu'))\n",
        "\n",
        "# add the output layer\n",
        "model.add(tf.keras.layers.Dense(1, activation='softmax'))"
      ],
      "metadata": {
        "id": "vnccE7Tv-dLu"
      },
      "execution_count": 15,
      "outputs": []
    },
    {
      "cell_type": "code",
      "source": [
        "# compile the model\n",
        "model.compile(optimizer='adam', loss='binary_crossentropy', metrics=['accuracy'])"
      ],
      "metadata": {
        "id": "NXjvxgzo-r1c"
      },
      "execution_count": 16,
      "outputs": []
    },
    {
      "cell_type": "code",
      "source": [
        "# Training the Model\n",
        "\n",
        "# define the batch size and number of epochs\n",
        "batch_size = 32\n",
        "epochs = 10\n",
        "\n",
        "# fit the model\n",
        "history = model.fit(train_features, y_train, batch_size=batch_size, epochs=epochs)"
      ],
      "metadata": {
        "colab": {
          "base_uri": "https://localhost:8080/"
        },
        "id": "vzUFJul9-vTF",
        "outputId": "9809dfa4-40cf-404c-d6a3-b9d0ef1cfe22"
      },
      "execution_count": 17,
      "outputs": [
        {
          "output_type": "stream",
          "name": "stdout",
          "text": [
            "Epoch 1/10\n",
            "1094/1094 [==============================] - 19s 16ms/step - loss: 0.3670 - accuracy: 0.4984\n",
            "Epoch 2/10\n",
            "1094/1094 [==============================] - 16s 15ms/step - loss: 0.3019 - accuracy: 0.4984\n",
            "Epoch 3/10\n",
            "1094/1094 [==============================] - 16s 15ms/step - loss: 0.1800 - accuracy: 0.4984\n",
            "Epoch 4/10\n",
            "1094/1094 [==============================] - 16s 14ms/step - loss: 0.0439 - accuracy: 0.4984\n",
            "Epoch 5/10\n",
            "1094/1094 [==============================] - 17s 16ms/step - loss: 0.0198 - accuracy: 0.4984\n",
            "Epoch 6/10\n",
            "1094/1094 [==============================] - 17s 15ms/step - loss: 0.0173 - accuracy: 0.4984\n",
            "Epoch 7/10\n",
            "1094/1094 [==============================] - 16s 15ms/step - loss: 0.0122 - accuracy: 0.4984\n",
            "Epoch 8/10\n",
            "1094/1094 [==============================] - 16s 15ms/step - loss: 0.0129 - accuracy: 0.4984\n",
            "Epoch 9/10\n",
            "1094/1094 [==============================] - 17s 16ms/step - loss: 0.0119 - accuracy: 0.4984\n",
            "Epoch 10/10\n",
            "1094/1094 [==============================] - 16s 15ms/step - loss: 0.0108 - accuracy: 0.4984\n"
          ]
        }
      ]
    },
    {
      "cell_type": "code",
      "source": [
        "# Evaluate the performance of the neural network model\n",
        "model_acc = model.evaluate(test_features, y_test)"
      ],
      "metadata": {
        "colab": {
          "base_uri": "https://localhost:8080/"
        },
        "id": "sDQzRYiV-6VF",
        "outputId": "b8b01af0-c0c7-47ca-dcd7-017e03c88d80"
      },
      "execution_count": 18,
      "outputs": [
        {
          "output_type": "stream",
          "name": "stdout",
          "text": [
            "469/469 [==============================] - 2s 5ms/step - loss: 1.1291 - accuracy: 0.5038\n"
          ]
        }
      ]
    },
    {
      "cell_type": "markdown",
      "source": [
        "g) In the test set, compare the performances of different classifiers and show the confusion matrices."
      ],
      "metadata": {
        "id": "K7gzPV88813B"
      }
    },
    {
      "cell_type": "code",
      "source": [
        "import seaborn as sn\n",
        "\n",
        "# Random Forest Accuracy\n",
        "print(\"Random Forest Test Accuracy: {}\".format(accuracy_score(y_test, y_pred_rf)))\n",
        "# print(\"Random Forest Confusion Matrix:\\n {}\".format(confusion_matrix(y_test, y_pred_rf)))\n",
        "\n",
        "# Confusion Matrix for Random Forest\n",
        "Cnfmtx_rndfrst = confusion_matrix(y_test, y_pred_rf)\n",
        "print(\"Random Forest Confusion Matrix:\",Cnfmtx_rndfrst )\n",
        "\n",
        "# Heat Map representing the confusion Matrix\n",
        "sn.heatmap(Cnfmtx_rndfrst, annot=True, cmap=plt.cm.Blues)\n",
        "plt.title('Confusion Matrix for Random Forest')\n",
        "plt.ylabel('Predicted Value')\n",
        "plt.xlabel('Truth value')"
      ],
      "metadata": {
        "colab": {
          "base_uri": "https://localhost:8080/",
          "height": 541
        },
        "id": "iLWRRwul9yin",
        "outputId": "fb9f137f-c1eb-45ef-b2cf-100b90855d86"
      },
      "execution_count": 19,
      "outputs": [
        {
          "output_type": "stream",
          "name": "stdout",
          "text": [
            "Random Forest Test Accuracy: 0.8194\n",
            "Random Forest Confusion Matrix: [[6154 1289]\n",
            " [1420 6137]]\n"
          ]
        },
        {
          "output_type": "execute_result",
          "data": {
            "text/plain": [
              "Text(0.5, 23.52222222222222, 'Truth value')"
            ]
          },
          "metadata": {},
          "execution_count": 19
        },
        {
          "output_type": "display_data",
          "data": {
            "text/plain": [
              "<Figure size 640x480 with 2 Axes>"
            ],
            "image/png": "[encoded data removed]"
          },
          "metadata": {}
        }
      ]
    },
    {
      "cell_type": "code",
      "source": [
        "# Logistic Regression\n",
        "print(\"Logistic Regression accuracy:\", logreg_acc)\n",
        "\n",
        "# Confusion Matrix for Logistic Regression\n",
        "logreg_cm = confusion_matrix(y_test, logreg.predict(test_features))\n",
        "print(\"Confusion Matrix for Logistic Regression\", logreg_cm)\n",
        "\n",
        "sn.heatmap(logreg_cm, annot=True)\n",
        "plt.title('Confusion Matrix for Logistic Regression')\n",
        "plt.ylabel('Predicted Value')\n",
        "plt.xlabel('Truth value')"
      ],
      "metadata": {
        "colab": {
          "base_uri": "https://localhost:8080/",
          "height": 541
        },
        "id": "6345FS1Y9_zh",
        "outputId": "9efe92bc-d816-4757-dc64-2110911882c6"
      },
      "execution_count": 20,
      "outputs": [
        {
          "output_type": "stream",
          "name": "stdout",
          "text": [
            "Logistic Regression accuracy: 0.8542666666666666\n",
            "Confusion Matrix for Logistic Regression [[6277 1166]\n",
            " [1020 6537]]\n"
          ]
        },
        {
          "output_type": "execute_result",
          "data": {
            "text/plain": [
              "Text(0.5, 23.52222222222222, 'Truth value')"
            ]
          },
          "metadata": {},
          "execution_count": 20
        },
        {
          "output_type": "display_data",
          "data": {
            "text/plain": [
              "<Figure size 640x480 with 2 Axes>"
            ],
            "image/png": "[encoded data removed]"
          },
          "metadata": {}
        }
      ]
    },
    {
      "cell_type": "code",
      "source": [
        "# DNN\n",
        "print(\"Deep Neural Network Accuracy:\", model_acc[1])\n",
        "dnn_pred = model.predict(test_features)\n",
        "dnn_pred =np.argmax(dnn_pred, axis=1)\n",
        "# Confusion Matrix for Deep Neural Network\n",
        "dnn_cm = confusion_matrix(y_test, dnn_pred)\n",
        "print(\"Random Forest Confusion Matrix:\",dnn_cm )\n",
        "\n",
        "# Heat Map representing the confusion Matrix\n",
        "sn.heatmap(dnn_cm, annot=True, cmap=plt.cm.Greens)\n",
        "plt.title('Confusion Matrix for Deep Neural Network')\n",
        "plt.ylabel('Predicted Value')\n",
        "plt.xlabel('Truth value')"
      ],
      "metadata": {
        "id": "fejnnuUS82Ku",
        "colab": {
          "base_uri": "https://localhost:8080/",
          "height": 559
        },
        "outputId": "ac932a7c-8589-48df-fcd4-3e47c39f00f5"
      },
      "execution_count": 21,
      "outputs": [
        {
          "output_type": "stream",
          "name": "stdout",
          "text": [
            "Deep Neural Network Accuracy: 0.5037999749183655\n",
            "469/469 [==============================] - 3s 6ms/step\n",
            "Random Forest Confusion Matrix: [[7443    0]\n",
            " [7557    0]]\n"
          ]
        },
        {
          "output_type": "execute_result",
          "data": {
            "text/plain": [
              "Text(0.5, 23.52222222222222, 'Truth value')"
            ]
          },
          "metadata": {},
          "execution_count": 21
        },
        {
          "output_type": "display_data",
          "data": {
            "text/plain": [
              "<Figure size 640x480 with 2 Axes>"
            ],
            "image/png": "[encoded data removed]"
          },
          "metadata": {}
        }
      ]
    }
  ]
}